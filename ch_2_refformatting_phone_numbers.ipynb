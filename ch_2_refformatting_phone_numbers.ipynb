{
 "cells": [
  {
   "cell_type": "markdown",
   "metadata": {},
   "source": [
    "# usage of the map approach to format phone numbers"
   ]
  },
  {
   "cell_type": "markdown",
   "metadata": {},
   "source": [
    "## traditional approach using sequential programming"
   ]
  },
  {
   "cell_type": "code",
   "execution_count": 1,
   "metadata": {},
   "outputs": [],
   "source": [
    "import re"
   ]
  },
  {
   "cell_type": "code",
   "execution_count": 2,
   "metadata": {},
   "outputs": [],
   "source": [
    "phone_numbers = [\n",
    "\"(123) 456-7890\",\n",
    "\"1234567890\",\n",
    "\"123.456.7890\",\n",
    "\"+1 123 456-7890\"\n",
    "]"
   ]
  },
  {
   "cell_type": "code",
   "execution_count": 13,
   "metadata": {},
   "outputs": [
    {
     "name": "stdout",
     "output_type": "stream",
     "text": [
      "['1', '2', '3', '4', '5', '6', '7', '8', '9', '0']\n",
      "123\n",
      "456\n",
      "7890\n",
      "(123) 456-7890\n",
      "['(123) 456-7890']\n",
      "\n",
      "\n",
      "['1', '2', '3', '4', '5', '6', '7', '8', '9', '0']\n",
      "123\n",
      "456\n",
      "7890\n",
      "(123) 456-7890\n",
      "['(123) 456-7890', '(123) 456-7890']\n",
      "\n",
      "\n",
      "['1', '2', '3', '4', '5', '6', '7', '8', '9', '0']\n",
      "123\n",
      "456\n",
      "7890\n",
      "(123) 456-7890\n",
      "['(123) 456-7890', '(123) 456-7890', '(123) 456-7890']\n",
      "\n",
      "\n",
      "['1', '1', '2', '3', '4', '5', '6', '7', '8', '9', '0']\n",
      "123\n",
      "456\n",
      "7890\n",
      "(123) 456-7890\n",
      "['(123) 456-7890', '(123) 456-7890', '(123) 456-7890', '(123) 456-7890']\n",
      "\n",
      "\n"
     ]
    }
   ],
   "source": [
    "# routine to reformat the phone numbers\n",
    "\n",
    "new_numbers = []\n",
    "\n",
    "R = re.compile(r\"\\d\") #compiles a regular expression that detects numbers\n",
    "\n",
    "for number in phone_numbers:\n",
    "    digits = R.findall(number)\n",
    "    print(digits)\n",
    "    \n",
    "    area_code = \"\".join(digits[-10:-7])\n",
    "    print(area_code)\n",
    "    \n",
    "    first_3 = \"\".join(digits[-7:-4])\n",
    "    print(first_3)\n",
    "    \n",
    "    last_4 = \"\".join(digits[-4:len(digits)])\n",
    "    print(last_4)\n",
    "    \n",
    "    pretty_format = \"({}) {}-{}\".format(area_code, first_3, last_4)\n",
    "    print(pretty_format)\n",
    "    \n",
    "    new_numbers.append(pretty_format)\n",
    "    print(new_numbers)\n",
    "    print(\"\\n\")"
   ]
  },
  {
   "cell_type": "markdown",
   "metadata": {},
   "source": [
    "## new approach using parallelization via map"
   ]
  },
  {
   "cell_type": "code",
   "execution_count": 14,
   "metadata": {},
   "outputs": [],
   "source": [
    "import re"
   ]
  },
  {
   "cell_type": "code",
   "execution_count": 21,
   "metadata": {},
   "outputs": [],
   "source": [
    "# to reduce the processing time required by re-compiling the regular expression, creates a class to hold our compiled regular expression\n",
    "\n",
    "class PhoneFormatter:\n",
    "    def __init__(self):\n",
    "        self.r = re.compile(r\"\\d\") # Creates an initialization method to compile the regular expression\n",
    "        \n",
    "    def pretty_format(self, phone_numbers):\n",
    "        # creates a format method to do the formatting\n",
    "        \n",
    "        phone_numbers = self.r.findall(phone_numbers)       \n",
    "        area_code = \"\".join(phone_numbers[-10:-7]) # gathers the numbers from the phone number string\n",
    "        first_3 = \"\".join(phone_numbers[-7:-4])\n",
    "        last_4 = \"\".join(phone_numbers[-4:len(phone_numbers)])\n",
    "        \n",
    "        return \"({}) {}-{}\".format(area_code, first_3, last_4) # returns the numbers in the desired “pretty” format "
   ]
  },
  {
   "cell_type": "code",
   "execution_count": 22,
   "metadata": {},
   "outputs": [],
   "source": [
    "phone_numbers = [\n",
    "\"(123) 456-7890\",\n",
    "\"1234567890\",\n",
    "\"123.456.7890\",\n",
    "\"+1 123 456-7890\"\n",
    "]"
   ]
  },
  {
   "cell_type": "code",
   "execution_count": 23,
   "metadata": {},
   "outputs": [
    {
     "name": "stdout",
     "output_type": "stream",
     "text": [
      "['(123) 456-7890', '(123) 456-7890', '(123) 456-7890', '(123) 456-7890']\n"
     ]
    }
   ],
   "source": [
    "# appliying the pretty_format method to the phone numbers\n",
    "\n",
    "P = PhoneFormatter() # initializes our class so we can use its method\n",
    "\n",
    "print(list(map(P.pretty_format, phone_numbers))) # maps the .pretty_format method across the phone numbers and prints the results"
   ]
  },
  {
   "cell_type": "code",
   "execution_count": null,
   "metadata": {},
   "outputs": [],
   "source": []
  }
 ],
 "metadata": {
  "kernelspec": {
   "display_name": "Python 3",
   "language": "python",
   "name": "python3"
  },
  "language_info": {
   "codemirror_mode": {
    "name": "ipython",
    "version": 3
   },
   "file_extension": ".py",
   "mimetype": "text/x-python",
   "name": "python",
   "nbconvert_exporter": "python",
   "pygments_lexer": "ipython3",
   "version": "3.8.3"
  }
 },
 "nbformat": 4,
 "nbformat_minor": 4
}
