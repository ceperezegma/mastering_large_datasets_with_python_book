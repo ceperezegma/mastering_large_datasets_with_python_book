{
 "cells": [
  {
   "cell_type": "markdown",
   "metadata": {},
   "source": [
    "# simulates the village survival related to their fishing activities"
   ]
  },
  {
   "cell_type": "code",
   "execution_count": 2,
   "metadata": {},
   "outputs": [],
   "source": [
    "import random, itertools\n",
    "from operator import methodcaller # it executes an object's method based on the passed arguments"
   ]
  },
  {
   "cell_type": "code",
   "execution_count": 6,
   "metadata": {},
   "outputs": [],
   "source": [
    "class Village:\n",
    "    def __init__(self):\n",
    "        self.population = random.uniform(1000, 5000)\n",
    "        self.cheat_rate = random.uniform(0.05, 0.15)\n",
    "        \n",
    "    def update(self, sim):\n",
    "        if sim.cheaters >= 2:\n",
    "            self.cheat_rate += 0.05\n",
    "        self.population = int(self.population * 1.025)\n",
    "        \n",
    "    def go_fishing(self):\n",
    "        if random.uniform(0, 1) < self.cheat_rate:\n",
    "            cheat = 1\n",
    "            fish_taken = self.population * 2\n",
    "        else:\n",
    "            cheat = 0\n",
    "            fish_taken = self.population * 1\n",
    "        return fish_taken, cheat"
   ]
  },
  {
   "cell_type": "code",
   "execution_count": 39,
   "metadata": {},
   "outputs": [],
   "source": [
    "class Lake_Simulation:\n",
    "    def __init__(self):\n",
    "        self.villages = [Village() for _ in range(4)]\n",
    "        self.fish = 50000\n",
    "        self.year = 1\n",
    "        self.cheaters = 0\n",
    "        \n",
    "    def simulate(self):\n",
    "        for _ in itertools.count():\n",
    "            yearly_results = map(methodcaller(\"go_fishing\"), self.villages) # iterates through each object\n",
    "            fishes, cheats = zip(*yearly_results)           \n",
    "            total_fished = sum(fishes)\n",
    "            self.cheaters = sum(cheats)            \n",
    "            if self.year > 1000:\n",
    "                print(\"Wow! Your villages lasted 1000 years!\")\n",
    "                break\n",
    "            if self.fish < total_fished:\n",
    "                print(\"The lake was overfished in {} years\".format(self.year))\n",
    "                break\n",
    "            else:\n",
    "                self.fish -= total_fished\n",
    "                self.fish = self.fish * 1.15                \n",
    "                map(methodcaller(\"update\"), self.villages)\n",
    "                print(\"year {:<5}     fish: {}\".format(self.year, int(self.fish)))\n",
    "\n",
    "                self.year += 1\n",
    "            "
   ]
  },
  {
   "cell_type": "markdown",
   "metadata": {},
   "source": [
    "## main function"
   ]
  },
  {
   "cell_type": "code",
   "execution_count": 40,
   "metadata": {},
   "outputs": [
    {
     "name": "stdout",
     "output_type": "stream",
     "text": [
      "year 1         fish: 46215\n",
      "year 2         fish: 41864\n",
      "year 3         fish: 36860\n",
      "year 4         fish: 31105\n",
      "year 5         fish: 24486\n",
      "year 6         fish: 16875\n",
      "year 7         fish: 8123\n",
      "The lake was overfished in 8 years\n"
     ]
    }
   ],
   "source": [
    "if __name__ == \"__main__\":\n",
    "    random.seed(\"map and reduce\")\n",
    "    Lake = Lake_Simulation()\n",
    "    Lake.simulate()"
   ]
  },
  {
   "cell_type": "code",
   "execution_count": null,
   "metadata": {},
   "outputs": [],
   "source": []
  }
 ],
 "metadata": {
  "kernelspec": {
   "display_name": "Python 3",
   "language": "python",
   "name": "python3"
  },
  "language_info": {
   "codemirror_mode": {
    "name": "ipython",
    "version": 3
   },
   "file_extension": ".py",
   "mimetype": "text/x-python",
   "name": "python",
   "nbconvert_exporter": "python",
   "pygments_lexer": "ipython3",
   "version": "3.8.3"
  }
 },
 "nbformat": 4,
 "nbformat_minor": 4
}
