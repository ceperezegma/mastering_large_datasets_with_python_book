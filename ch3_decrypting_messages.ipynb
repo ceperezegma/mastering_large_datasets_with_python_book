{
 "cells": [
  {
   "cell_type": "markdown",
   "metadata": {},
   "source": [
    "# decryption of messages using map, helper functions and pipelines"
   ]
  },
  {
   "cell_type": "code",
   "execution_count": 1,
   "metadata": {},
   "outputs": [],
   "source": [
    "def replace_7t(s):\n",
    "    \"\"\"\n",
    "    replace 7s by ts\n",
    "    \"\"\"\n",
    "    return s.replace(\"7\", \"t\")"
   ]
  },
  {
   "cell_type": "code",
   "execution_count": 2,
   "metadata": {},
   "outputs": [],
   "source": [
    "def replace_3e(s):\n",
    "    \"\"\"\n",
    "    replace 3s by es\n",
    "    \"\"\"\n",
    "    return s.replace(\"3\", \"e\")"
   ]
  },
  {
   "cell_type": "code",
   "execution_count": 3,
   "metadata": {},
   "outputs": [],
   "source": [
    "def replace_6g(s):\n",
    "    \"\"\"\n",
    "    replace 6s by gs\n",
    "    \"\"\"\n",
    "    return s.replace(\"6\", \"g\")"
   ]
  },
  {
   "cell_type": "code",
   "execution_count": 4,
   "metadata": {},
   "outputs": [],
   "source": [
    "def replace_4a(s):\n",
    "    \"\"\"\n",
    "    replace 4s by as\n",
    "    \"\"\"\n",
    "    return s.replace(\"4\", \"a\")"
   ]
  },
  {
   "cell_type": "code",
   "execution_count": 17,
   "metadata": {},
   "outputs": [],
   "source": [
    "import re\n",
    "\n",
    "class chinese_matcher:\n",
    "    def __init__(self):\n",
    "        \"\"\"\n",
    "        We compile our regular expression on initialization of the class\n",
    "        \"\"\"\n",
    "        self.r = re.compile(r'[\\u4e00-\\u9fff]+')\n",
    "        \n",
    "    def sub_chinese(self, s):\n",
    "        \"\"\"\"\n",
    "        Now we can use this compiled regular expression in a method that uses the expression pattern’s split method.\n",
    "        \"\"\"\n",
    "        return self.r.sub(\" \", s)       \n",
    "        "
   ]
  },
  {
   "cell_type": "markdown",
   "metadata": {},
   "source": [
    "## approach 1: using nested maps functions"
   ]
  },
  {
   "cell_type": "code",
   "execution_count": 18,
   "metadata": {},
   "outputs": [
    {
     "name": "stdout",
     "output_type": "stream",
     "text": [
      "['this所is家a没sample动message', 'dont家tell经anyone法this现message', 'we现are当being进so好secret', 'tee小hee成hee去nobody看is天on分to理us', 'we么will面never分get理caught', 'we事are经such没sneaky天hackers']\n",
      "['this is a sample message', 'dont tell anyone this message', 'we are being so secret', 'tee hee hee nobody is on to us', 'we will never get caught', 'we are such sneaky hackers']\n"
     ]
    }
   ],
   "source": [
    "C = chinese_matcher() # created an instance to detect chinese characteres and change them into \" \"\n",
    "\n",
    "sample_messages = sample_messages = [\"7his所is家4没s4mpl3动m3ss463\",\n",
    "                                     \"don7家73ll经4nyon3法7his现m3ss463\",\n",
    "                                     \"w3现4r3当b3in6进so好s3cr3t\",\n",
    "                                     \"733小h33成h33去nobody看is天on分7o理us\",\n",
    "                                     \"w3么will面n3v3r分637理c4u6ht\",\n",
    "                                     \"w3事4r3经such没sn34ky天h4ckers\"]\n",
    "\n",
    "uncrypted_messages_1 = map(replace_4a, map(replace_6g, map(replace_3e, map(replace_7t, sample_messages))))\n",
    "\n",
    "uncrypted_messages_2 = map(C.sub_chinese, map(replace_4a, map(replace_6g, map(replace_3e, map(replace_7t, sample_messages)))))\n",
    "\n",
    "print(list(uncrypted_messages_1))\n",
    "print(list(uncrypted_messages_2))"
   ]
  },
  {
   "cell_type": "markdown",
   "metadata": {},
   "source": [
    "## approach 2: unsing COMPOSE"
   ]
  },
  {
   "cell_type": "code",
   "execution_count": 21,
   "metadata": {},
   "outputs": [
    {
     "name": "stdout",
     "output_type": "stream",
     "text": [
      "['this is a sample message', 'dont tell anyone this message', 'we are being so secret', 'tee hee hee nobody is on to us', 'we will never get caught', 'we are such sneaky hackers']\n"
     ]
    }
   ],
   "source": [
    "from toolz.functoolz import compose\n",
    "\n",
    "# compose: the helper functions are applied from right to left\n",
    "hacker_translate = compose(C.sub_chinese, replace_4a, replace_6g, replace_3e, replace_7t)\n",
    "\n",
    "print(list(map(hacker_translate, sample_messages)))"
   ]
  },
  {
   "cell_type": "markdown",
   "metadata": {},
   "source": [
    "## approach 3: unsing PIPE"
   ]
  },
  {
   "cell_type": "code",
   "execution_count": 22,
   "metadata": {},
   "outputs": [
    {
     "name": "stdout",
     "output_type": "stream",
     "text": [
      "['this is a sample message', 'dont tell anyone this message', 'we are being so secret', 'tee hee hee nobody is on to us', 'we will never get caught', 'we are such sneaky hackers']\n"
     ]
    }
   ],
   "source": [
    "from toolz.functoolz import pipe\n",
    "\n",
    "def hacker_translate(s):\n",
    "    \"\"\"\n",
    "    the helper functions are applied from left to right We need this functin because pipe always returns a result every time it applies a helper function\n",
    "    \"\"\"\n",
    "    return pipe(s, replace_7t, replace_3e, replace_6g, replace_4a, C.sub_chinese)\n",
    "\n",
    "print(list(map(hacker_translate, sample_messages)))"
   ]
  },
  {
   "cell_type": "code",
   "execution_count": null,
   "metadata": {},
   "outputs": [],
   "source": []
  }
 ],
 "metadata": {
  "kernelspec": {
   "display_name": "Python 3",
   "language": "python",
   "name": "python3"
  },
  "language_info": {
   "codemirror_mode": {
    "name": "ipython",
    "version": 3
   },
   "file_extension": ".py",
   "mimetype": "text/x-python",
   "name": "python",
   "nbconvert_exporter": "python",
   "pygments_lexer": "ipython3",
   "version": "3.8.3"
  }
 },
 "nbformat": 4,
 "nbformat_minor": 4
}
