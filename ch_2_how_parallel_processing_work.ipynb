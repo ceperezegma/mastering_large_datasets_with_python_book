{
 "cells": [
  {
   "cell_type": "markdown",
   "metadata": {},
   "source": [
    "# explanation on how the parallel processing work in python"
   ]
  },
  {
   "cell_type": "code",
   "execution_count": 16,
   "metadata": {},
   "outputs": [],
   "source": [
    "from datetime import date\n",
    "from urllib import request\n",
    "import os\n",
    "from multiprocessing import Pool # imports the multiprocessing library"
   ]
  },
  {
   "cell_type": "code",
   "execution_count": 8,
   "metadata": {},
   "outputs": [],
   "source": [
    "def days_between(start, stop):\n",
    "    # generates the dataset between 2 dates and gneerate the URI corresponding to blog posts\n",
    "    \n",
    "    today = date(*start)\n",
    "    stop = date(*stop)    \n",
    "    while today < stop:\n",
    "        datestr = today.strftime(\"%m-%d-%Y\")\n",
    "        yield \"http://jtwolohan.com/arch-rival-blog/\" + datestr\n",
    "        today = date.fromordinal(today.toordinal() + 1)        \n",
    "    return"
   ]
  },
  {
   "cell_type": "code",
   "execution_count": 14,
   "metadata": {},
   "outputs": [],
   "source": [
    "def get_url(path):\n",
    "    return print(path + \"\\n\")\n",
    "# request.urlopen(path).read()"
   ]
  },
  {
   "cell_type": "code",
   "execution_count": 19,
   "metadata": {},
   "outputs": [
    {
     "name": "stdout",
     "output_type": "stream",
     "text": [
      "number of CPUs available: 4\n",
      "http://jtwolohan.com/arch-rival-blog/01-01-2000\n",
      "http://jtwolohan.com/arch-rival-blog/01-03-2000\n",
      "\n",
      "\n",
      "http://jtwolohan.com/arch-rival-blog/01-04-2000\n",
      "http://jtwolohan.com/arch-rival-blog/01-02-2000\n",
      "\n",
      "http://jtwolohan.com/arch-rival-blog/01-09-2000\n",
      "\n",
      "http://jtwolohan.com/arch-rival-blog/01-10-2000\n",
      "\n",
      "http://jtwolohan.com/arch-rival-blog/01-11-2000\n",
      "\n",
      "http://jtwolohan.com/arch-rival-blog/01-12-2000\n",
      "\n",
      "http://jtwolohan.com/arch-rival-blog/01-13-2000\n",
      "\n",
      "http://jtwolohan.com/arch-rival-blog/01-14-2000\n",
      "\n",
      "http://jtwolohan.com/arch-rival-blog/01-15-2000\n",
      "\n",
      "http://jtwolohan.com/arch-rival-blog/01-16-2000\n",
      "\n",
      "http://jtwolohan.com/arch-rival-blog/01-17-2000\n",
      "http://jtwolohan.com/arch-rival-blog/01-05-2000\n",
      "\n",
      "\n",
      "http://jtwolohan.com/arch-rival-blog/01-18-2000\n",
      "http://jtwolohan.com/arch-rival-blog/01-06-2000\n",
      "\n",
      "\n",
      "\n",
      "http://jtwolohan.com/arch-rival-blog/01-23-2000\n",
      "http://jtwolohan.com/arch-rival-blog/01-19-2000\n",
      "\n",
      "http://jtwolohan.com/arch-rival-blog/01-24-2000\n",
      "http://jtwolohan.com/arch-rival-blog/01-21-2000\n",
      "\n",
      "http://jtwolohan.com/arch-rival-blog/01-25-2000\n",
      "\n",
      "\n",
      "http://jtwolohan.com/arch-rival-blog/01-07-2000\n",
      "http://jtwolohan.com/arch-rival-blog/01-20-2000\n",
      "\n",
      "\n",
      "http://jtwolohan.com/arch-rival-blog/01-22-2000\n",
      "\n",
      "http://jtwolohan.com/arch-rival-blog/01-08-2000\n",
      "http://jtwolohan.com/arch-rival-blog/01-27-2000\n",
      "\n",
      "http://jtwolohan.com/arch-rival-blog/01-26-2000\n",
      "\n",
      "\n",
      "http://jtwolohan.com/arch-rival-blog/01-29-2000\n",
      "http://jtwolohan.com/arch-rival-blog/01-31-2000\n",
      "\n",
      "\n",
      "http://jtwolohan.com/arch-rival-blog/01-30-2000\n",
      "\n",
      "\n",
      "http://jtwolohan.com/arch-rival-blog/01-28-2000\n",
      "\n"
     ]
    }
   ],
   "source": [
    "print(\"number of CPUs available: {}\".format(os.cpu_count()))\n",
    "\n",
    "with  Pool() as P: # gathers the available processors with Pool()\n",
    "    blog_post = P.map(get_url, days_between((2000, 1, 1), (2000, 2, 1)))  # performs our map in parallel"
   ]
  },
  {
   "cell_type": "code",
   "execution_count": null,
   "metadata": {},
   "outputs": [],
   "source": []
  }
 ],
 "metadata": {
  "kernelspec": {
   "display_name": "Python 3",
   "language": "python",
   "name": "python3"
  },
  "language_info": {
   "codemirror_mode": {
    "name": "ipython",
    "version": 3
   },
   "file_extension": ".py",
   "mimetype": "text/x-python",
   "name": "python",
   "nbconvert_exporter": "python",
   "pygments_lexer": "ipython3",
   "version": "3.8.3"
  }
 },
 "nbformat": 4,
 "nbformat_minor": 4
}
