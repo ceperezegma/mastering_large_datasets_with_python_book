{
 "cells": [
  {
   "cell_type": "markdown",
   "metadata": {},
   "source": [
    "# analysis of the users' tweets to identify their sex"
   ]
  },
  {
   "cell_type": "markdown",
   "metadata": {},
   "source": [
    "## 1. twitter-level pipeline"
   ]
  },
  {
   "cell_type": "code",
   "execution_count": 53,
   "metadata": {},
   "outputs": [],
   "source": [
    "from toolz import pipe\n",
    "import twitter\n",
    "from multiprocessing import Pool\n",
    "from toolz import compose"
   ]
  },
  {
   "cell_type": "code",
   "execution_count": 2,
   "metadata": {},
   "outputs": [],
   "source": [
    "# autenthicates the twitter app\n",
    "Twitter = twitter.Api(consumer_key=\"\",\n",
    "                     consumer_secret=\"\",\n",
    "                     access_token_key=\"\",\n",
    "                     access_token_secret=\"\")"
   ]
  },
  {
   "cell_type": "code",
   "execution_count": 3,
   "metadata": {},
   "outputs": [],
   "source": [
    "def get_tweet_from_id(tweet_id, api=Twitter):\n",
    "    \"\"\"\n",
    "    Uses the twitter app to look up tweets by their ID\n",
    "    \"\"\"\n",
    "    return api.GetStatus(tweet_id, trim_user=True)\n",
    "    "
   ]
  },
  {
   "cell_type": "code",
   "execution_count": 37,
   "metadata": {},
   "outputs": [],
   "source": [
    "def tweet_to_text(tweet):\n",
    "    \"\"\"\n",
    "    Gets the text from a tweet object\n",
    "    \"\"\"\n",
    "    return tweet.text.lower()"
   ]
  },
  {
   "cell_type": "code",
   "execution_count": 5,
   "metadata": {},
   "outputs": [],
   "source": [
    "def tokenize_text(text):\n",
    "    \"\"\"\n",
    "    Splits text on white space so we can analyze words\n",
    "    \"\"\"\n",
    "    return text.split()\n",
    "    "
   ]
  },
  {
   "cell_type": "code",
   "execution_count": 6,
   "metadata": {},
   "outputs": [],
   "source": [
    "def score_text(tokens):\n",
    "    \"\"\"\n",
    "    Creates our text scoring function\n",
    "    \"\"\"\n",
    "    # Creates a mini sample lexicon for scoring words\n",
    "    lexicon = {\"the\":1, \"to\":1, \"and\":1,\n",
    "               \"in\":1, \"have\":1, \"it\":1,\n",
    "               \"be\":-1, \"of\":-1, \"a\":-1,\n",
    "               \"that\":-1, \"i\":-1, \"for\":-1}\n",
    "    \n",
    "    return sum(map(lambda x: lexicon.get(x, 0), tokens))"
   ]
  },
  {
   "cell_type": "code",
   "execution_count": 7,
   "metadata": {},
   "outputs": [],
   "source": [
    "def score_tweet(tweet_id):\n",
    "    \"\"\"\n",
    "    Pipes a tweet through our pipeline\n",
    "    \"\"\"\n",
    "    return pipe(tweet_id, get_tweet_from_id, tweet_to_text, tokenize_text, score_text)"
   ]
  },
  {
   "cell_type": "markdown",
   "metadata": {},
   "source": [
    "## user-level pipeline"
   ]
  },
  {
   "cell_type": "code",
   "execution_count": 66,
   "metadata": {},
   "outputs": [],
   "source": [
    "def score_user(tweets):\n",
    "    \"\"\"\n",
    "    Averages the scores of all of a user’s tweets \n",
    "    \"\"\"\n",
    "    print(tweets)\n",
    "    print(\"\\n\")\n",
    "    N = len(tweets)\n",
    "    total = sum(map(score_tweet, tweets))\n",
    "    return total / N\n",
    "    "
   ]
  },
  {
   "cell_type": "code",
   "execution_count": 64,
   "metadata": {},
   "outputs": [],
   "source": [
    "def categorize_user(user_score):\n",
    "    \"\"\"\n",
    "    If the user_score is greater than 0, we’ll say that the user is male.\n",
    "    \"\"\"\n",
    "    if user_score > 0:\n",
    "        return {\"score\": user_score,\n",
    "                \"gender\": \"Male\"}\n",
    "    return {\"score\": user_score,\n",
    "                \"gender\": \"Female\"}"
   ]
  },
  {
   "cell_type": "markdown",
   "metadata": {},
   "source": [
    "## main"
   ]
  },
  {
   "cell_type": "code",
   "execution_count": 67,
   "metadata": {},
   "outputs": [
    {
     "name": "stdout",
     "output_type": "stream",
     "text": [
      "[1056365937547534341, 1056310126255034368]\n",
      "\n",
      "\n",
      "[1055985345341251584, 1056585873989394432]\n",
      "\n",
      "\n",
      "[1056585871623966720, 1055986452612419584]\n",
      "\n",
      "\n",
      "[1056318330037002240, 1055957256162942977]\n",
      "\n",
      "\n",
      "[1056585921154420736, 1056585896898805766, 1056367465477951490]\n",
      "\n",
      "\n",
      "[{'score': -0.5, 'gender': 'Female'}, {'score': 0.0, 'gender': 'Female'}, {'score': 2.0, 'gender': 'Male'}, {'score': 1.0, 'gender': 'Male'}, {'score': 0.3333333333333333, 'gender': 'Male'}]\n"
     ]
    }
   ],
   "source": [
    "# some users' tweets ids\n",
    "users_tweets_1 = [1056365937547534341, 1056310126255034368, 1055985345341251584,1056585873989394432, 1056585871623966720, 1055986452612419584, 1056318330037002240, 1055957256162942977, 1056585921154420736, 1056585896898805766,\n",
    "                1056367465477951490]\n",
    "\n",
    "users_tweets_2 = [[1056365937547534341, 1056310126255034368], [1055985345341251584,1056585873989394432], [1056585871623966720, 1055986452612419584], [1056318330037002240, 1055957256162942977], [1056585921154420736, 1056585896898805766,\n",
    "                1056367465477951490]]\n",
    "\n",
    "gender_prediction_pipeline = compose(categorize_user, score_user)\n",
    "\n",
    "with Pool() as P:\n",
    "    print(P.map(gender_prediction_pipeline, users_tweets_2))"
   ]
  },
  {
   "cell_type": "code",
   "execution_count": 47,
   "metadata": {
    "collapsed": true,
    "jupyter": {
     "outputs_hidden": true,
     "source_hidden": true
    }
   },
   "outputs": [
    {
     "name": "stdout",
     "output_type": "stream",
     "text": [
      "{\"created_at\": \"Sun Oct 28 02:04:00 +0000 2018\", \"favorite_count\": 25729, \"hashtags\": [], \"id\": 1056365937547534341, \"id_str\": \"1056365937547534341\", \"lang\": \"en\", \"media\": [{\"display_url\": \"pic.twitter.com/7CIhHTAUEA\", \"expanded_url\": \"https://twitter.com/dodo/status/1056365937547534341/video/1\", \"id\": 989875325545857024, \"media_url\": \"http://pbs.twimg.com/media/Dby-qeEVMAAc0AU.jpg\", \"media_url_https\": \"https://pbs.twimg.com/media/Dby-qeEVMAAc0AU.jpg\", \"sizes\": {\"large\": {\"h\": 1080, \"resize\": \"fit\", \"w\": 1080}, \"medium\": {\"h\": 1080, \"resize\": \"fit\", \"w\": 1080}, \"small\": {\"h\": 680, \"resize\": \"fit\", \"w\": 680}, \"thumb\": {\"h\": 150, \"resize\": \"crop\", \"w\": 150}}, \"type\": \"video\", \"url\": \"https://t.co/7CIhHTAUEA\", \"video_info\": {\"aspect_ratio\": [1, 1], \"duration_millis\": 19820, \"variants\": [{\"bitrate\": 1280000, \"content_type\": \"video/mp4\", \"url\": \"https://video.twimg.com/amplify_video/989875325545857024/vid/720x720/4Vf67lGbz63mvoR8.mp4?tag=2\"}, {\"bitrate\": 320000, \"content_type\": \"video/mp4\", \"url\": \"https://video.twimg.com/amplify_video/989875325545857024/vid/240x240/dmoVlCkwFbmdxheS.mp4?tag=2\"}, {\"content_type\": \"application/x-mpegURL\", \"url\": \"https://video.twimg.com/amplify_video/989875325545857024/pl/olUqsbnAQ2Oy4yTl.m3u8?tag=2\"}, {\"bitrate\": 832000, \"content_type\": \"video/mp4\", \"url\": \"https://video.twimg.com/amplify_video/989875325545857024/vid/480x480/hzZ0QrX9r-gm31aR.mp4?tag=2\"}]}}], \"retweet_count\": 6180, \"source\": \"<a href=\\\"https://studio.twitter.com\\\" rel=\\\"nofollow\\\">Twitter Media Studio</a>\", \"text\": \"This guy tucks his dog into bed every night \\ud83d\\udc99 https://t.co/7CIhHTAUEA\", \"urls\": [], \"user\": {\"id\": 1604444052, \"id_str\": \"1604444052\"}, \"user_mentions\": []}\n",
      "**********\n",
      "\n",
      "this guy tucks his dog into bed every night 💙 https://t.co/7cihhtauea\n",
      "**********\n",
      "\n",
      "['this', 'guy', 'tucks', 'his', 'dog', 'into', 'bed', 'every', 'night', '💙', 'https://t.co/7cihhtauea']\n",
      "**********\n",
      "\n",
      "0\n"
     ]
    }
   ],
   "source": [
    "# some users' tweets ids\n",
    "users_tweets = [1056365937547534341, 1056310126255034368, 1055985345341251584,1056585873989394432, 1056585871623966720, 1055986452612419584, 1056318330037002240, 1055957256162942977, 1056585921154420736, 1056585896898805766,\n",
    "                1056367465477951490]\n",
    "\n",
    "tweet = get_tweet_from_id(users_tweets[0])\n",
    "print(tweet)\n",
    "print(\"**********\\n\")\n",
    "\n",
    "tweet_text = tweet_to_text(tweet)\n",
    "print(tweet_text)\n",
    "print(\"**********\\n\")\n",
    "\n",
    "tweet_tokenized = tokenize_text(tweet_text)\n",
    "print(tweet_tokenized)\n",
    "print(\"**********\\n\")\n",
    "\n",
    "\n",
    "tweet_score = score_text(tweet_tokenized)\n",
    "print(tweet_score)\n",
    "\n",
    "# with Pool as P:\n",
    "#     print(P.map(score))"
   ]
  },
  {
   "cell_type": "code",
   "execution_count": 26,
   "metadata": {},
   "outputs": [
    {
     "name": "stdout",
     "output_type": "stream",
     "text": [
      "********** 0\n",
      "\n",
      "{\"created_at\": \"Sun Oct 28 02:04:00 +0000 2018\", \"favorite_count\": 25729, \"hashtags\": [], \"id\": 1056365937547534341, \"id_str\": \"1056365937547534341\", \"lang\": \"en\", \"media\": [{\"display_url\": \"pic.twitter.com/7CIhHTAUEA\", \"expanded_url\": \"https://twitter.com/dodo/status/1056365937547534341/video/1\", \"id\": 989875325545857024, \"media_url\": \"http://pbs.twimg.com/media/Dby-qeEVMAAc0AU.jpg\", \"media_url_https\": \"https://pbs.twimg.com/media/Dby-qeEVMAAc0AU.jpg\", \"sizes\": {\"large\": {\"h\": 1080, \"resize\": \"fit\", \"w\": 1080}, \"medium\": {\"h\": 1080, \"resize\": \"fit\", \"w\": 1080}, \"small\": {\"h\": 680, \"resize\": \"fit\", \"w\": 680}, \"thumb\": {\"h\": 150, \"resize\": \"crop\", \"w\": 150}}, \"type\": \"video\", \"url\": \"https://t.co/7CIhHTAUEA\", \"video_info\": {\"aspect_ratio\": [1, 1], \"duration_millis\": 19820, \"variants\": [{\"bitrate\": 1280000, \"content_type\": \"video/mp4\", \"url\": \"https://video.twimg.com/amplify_video/989875325545857024/vid/720x720/4Vf67lGbz63mvoR8.mp4?tag=2\"}, {\"bitrate\": 320000, \"content_type\": \"video/mp4\", \"url\": \"https://video.twimg.com/amplify_video/989875325545857024/vid/240x240/dmoVlCkwFbmdxheS.mp4?tag=2\"}, {\"content_type\": \"application/x-mpegURL\", \"url\": \"https://video.twimg.com/amplify_video/989875325545857024/pl/olUqsbnAQ2Oy4yTl.m3u8?tag=2\"}, {\"bitrate\": 832000, \"content_type\": \"video/mp4\", \"url\": \"https://video.twimg.com/amplify_video/989875325545857024/vid/480x480/hzZ0QrX9r-gm31aR.mp4?tag=2\"}]}}], \"retweet_count\": 6180, \"source\": \"<a href=\\\"https://studio.twitter.com\\\" rel=\\\"nofollow\\\">Twitter Media Studio</a>\", \"text\": \"This guy tucks his dog into bed every night \\ud83d\\udc99 https://t.co/7CIhHTAUEA\", \"urls\": [], \"user\": {\"id\": 1604444052, \"id_str\": \"1604444052\"}, \"user_mentions\": []}\n",
      "**********\n",
      "\n",
      "********** 1\n",
      "\n",
      "{\"created_at\": \"Sat Oct 27 22:22:14 +0000 2018\", \"favorite_count\": 62048, \"hashtags\": [], \"id\": 1056310126255034368, \"id_str\": \"1056310126255034368\", \"lang\": \"en\", \"media\": [{\"display_url\": \"pic.twitter.com/uJYQ6IEhJP\", \"expanded_url\": \"https://twitter.com/dog_rates/status/1056310126255034368/video/1\", \"id\": 1056310088254873600, \"media_url\": \"http://pbs.twimg.com/ext_tw_video_thumb/1056310088254873600/pu/img/Pos7Hbe5KXzUG_0-.jpg\", \"media_url_https\": \"https://pbs.twimg.com/ext_tw_video_thumb/1056310088254873600/pu/img/Pos7Hbe5KXzUG_0-.jpg\", \"sizes\": {\"large\": {\"h\": 1280, \"resize\": \"fit\", \"w\": 720}, \"medium\": {\"h\": 1200, \"resize\": \"fit\", \"w\": 675}, \"small\": {\"h\": 680, \"resize\": \"fit\", \"w\": 383}, \"thumb\": {\"h\": 150, \"resize\": \"crop\", \"w\": 150}}, \"type\": \"video\", \"url\": \"https://t.co/uJYQ6IEhJP\", \"video_info\": {\"aspect_ratio\": [9, 16], \"duration_millis\": 5892, \"variants\": [{\"content_type\": \"application/x-mpegURL\", \"url\": \"https://video.twimg.com/ext_tw_video/1056310088254873600/pu/pl/5OoXkWgAcNz0-C_1.m3u8?tag=5\"}, {\"bitrate\": 832000, \"content_type\": \"video/mp4\", \"url\": \"https://video.twimg.com/ext_tw_video/1056310088254873600/pu/vid/360x640/FXDluxLHwRw0PRC3.mp4?tag=5\"}, {\"bitrate\": 256000, \"content_type\": \"video/mp4\", \"url\": \"https://video.twimg.com/ext_tw_video/1056310088254873600/pu/vid/180x320/9mcj89Vy1zKmWy3E.mp4?tag=5\"}, {\"bitrate\": 2176000, \"content_type\": \"video/mp4\", \"url\": \"https://video.twimg.com/ext_tw_video/1056310088254873600/pu/vid/720x1280/ZhrGGCuTSZLs_SLa.mp4?tag=5\"}]}}], \"retweet_count\": 5966, \"source\": \"<a href=\\\"http://twitter.com/download/iphone\\\" rel=\\\"nofollow\\\">Twitter for iPhone</a>\", \"text\": \"Thank you for another amazing corgi beach day. This one liked to dig. I supported his passion. 14/10 https://t.co/uJYQ6IEhJP\", \"urls\": [], \"user\": {\"id\": 4196983835, \"id_str\": \"4196983835\"}, \"user_mentions\": []}\n",
      "**********\n",
      "\n",
      "********** 2\n",
      "\n",
      "{\"created_at\": \"Sat Oct 27 00:51:40 +0000 2018\", \"favorite_count\": 39978, \"hashtags\": [], \"id\": 1055985345341251584, \"id_str\": \"1055985345341251584\", \"lang\": \"en\", \"retweet_count\": 4984, \"source\": \"<a href=\\\"http://twitter.com/download/iphone\\\" rel=\\\"nofollow\\\">Twitter for iPhone</a>\", \"text\": \"This is Atty. He\\u2019s a PTSD service pup who tore his back right zoomer. He\\u2019s scheduled for surgery Monday, but has a\\u2026 https://t.co/IIH9adCUW4\", \"truncated\": true, \"urls\": [{\"expanded_url\": \"https://twitter.com/i/web/status/1055985345341251584\", \"url\": \"https://t.co/IIH9adCUW4\"}], \"user\": {\"id\": 4196983835, \"id_str\": \"4196983835\"}, \"user_mentions\": []}\n",
      "**********\n",
      "\n",
      "********** 3\n",
      "\n",
      "{\"created_at\": \"Sun Oct 28 16:37:57 +0000 2018\", \"hashtags\": [], \"id\": 1056585873989394432, \"id_str\": \"1056585873989394432\", \"lang\": \"en\", \"quoted_status_id\": 1056039426521006080, \"quoted_status_id_str\": \"1056039426521006080\", \"retweet_count\": 131543, \"retweeted_status\": {\"created_at\": \"Sat Oct 27 04:28:27 +0000 2018\", \"favorite_count\": 471674, \"hashtags\": [], \"id\": 1056039903644004352, \"id_str\": \"1056039903644004352\", \"lang\": \"en\", \"quoted_status\": {\"created_at\": \"Sat Oct 27 04:26:34 +0000 2018\", \"favorite_count\": 163954, \"hashtags\": [], \"id\": 1056039426521006080, \"id_str\": \"1056039426521006080\", \"lang\": \"und\", \"media\": [{\"display_url\": \"pic.twitter.com/o7QU30EN83\", \"expanded_url\": \"https://twitter.com/jonjarrett66/status/1056039426521006080/video/1\", \"id\": 1056039372779413504, \"media_url\": \"http://pbs.twimg.com/ext_tw_video_thumb/1056039372779413504/pu/img/VpoXwz5sW0LbkWoR.jpg\", \"media_url_https\": \"https://pbs.twimg.com/ext_tw_video_thumb/1056039372779413504/pu/img/VpoXwz5sW0LbkWoR.jpg\", \"sizes\": {\"large\": {\"h\": 1280, \"resize\": \"fit\", \"w\": 720}, \"medium\": {\"h\": 1200, \"resize\": \"fit\", \"w\": 675}, \"small\": {\"h\": 680, \"resize\": \"fit\", \"w\": 383}, \"thumb\": {\"h\": 150, \"resize\": \"crop\", \"w\": 150}}, \"type\": \"video\", \"url\": \"https://t.co/o7QU30EN83\", \"video_info\": {\"aspect_ratio\": [9, 16], \"duration_millis\": 12876, \"variants\": [{\"content_type\": \"application/x-mpegURL\", \"url\": \"https://video.twimg.com/ext_tw_video/1056039372779413504/pu/pl/6KLVQSBmn5KRtPfH.m3u8?tag=5\"}, {\"bitrate\": 832000, \"content_type\": \"video/mp4\", \"url\": \"https://video.twimg.com/ext_tw_video/1056039372779413504/pu/vid/360x640/tF7q9XxQoX_xWVLK.mp4?tag=5\"}, {\"bitrate\": 2176000, \"content_type\": \"video/mp4\", \"url\": \"https://video.twimg.com/ext_tw_video/1056039372779413504/pu/vid/720x1280/4-d2cub6wU7wCe-x.mp4?tag=5\"}, {\"bitrate\": 256000, \"content_type\": \"video/mp4\", \"url\": \"https://video.twimg.com/ext_tw_video/1056039372779413504/pu/vid/180x320/u-54QursRp00Npf5.mp4?tag=5\"}]}}], \"retweet_count\": 45357, \"source\": \"<a href=\\\"http://twitter.com/download/android\\\" rel=\\\"nofollow\\\">Twitter for Android</a>\", \"text\": \"https://t.co/o7QU30EN83\", \"urls\": [], \"user\": {\"id\": 1387987500, \"id_str\": \"1387987500\"}, \"user_mentions\": []}, \"quoted_status_id\": 1056039426521006080, \"quoted_status_id_str\": \"1056039426521006080\", \"retweet_count\": 131543, \"source\": \"<a href=\\\"http://twitter.com/download/iphone\\\" rel=\\\"nofollow\\\">Twitter for iPhone</a>\", \"text\": \"THIS MAN RIGHT HERE HAD THE AUDACITY TO ORDER A HOT DOG IN MY PRESENCE https://t.co/T0l71qS6Pp\", \"urls\": [{\"expanded_url\": \"https://twitter.com/jonjarrett66/status/1056039426521006080\", \"url\": \"https://t.co/T0l71qS6Pp\"}], \"user\": {\"id\": 854517860080783360, \"id_str\": \"854517860080783360\"}, \"user_mentions\": []}, \"source\": \"<a href=\\\"http://twitter.com/download/android\\\" rel=\\\"nofollow\\\">Twitter for Android</a>\", \"text\": \"RT @LimpyNoodles: THIS MAN RIGHT HERE HAD THE AUDACITY TO ORDER A HOT DOG IN MY PRESENCE https://t.co/T0l71qS6Pp\", \"urls\": [{\"expanded_url\": \"https://twitter.com/jonjarrett66/status/1056039426521006080\", \"url\": \"https://t.co/T0l71qS6Pp\"}], \"user\": {\"id\": 799812845026168832, \"id_str\": \"799812845026168832\"}, \"user_mentions\": [{\"id\": 854517860080783360, \"id_str\": \"854517860080783360\", \"name\": \"\\u1455\\u157c\\u00e0\\u1515\\u00e9\", \"screen_name\": \"LimpyNoodles\"}]}\n",
      "**********\n",
      "\n",
      "********** 4\n",
      "\n",
      "{\"created_at\": \"Sun Oct 28 16:37:56 +0000 2018\", \"hashtags\": [], \"id\": 1056585871623966720, \"id_str\": \"1056585871623966720\", \"lang\": \"en\", \"quoted_status_id\": 1056039426521006080, \"quoted_status_id_str\": \"1056039426521006080\", \"retweet_count\": 131543, \"retweeted_status\": {\"created_at\": \"Sat Oct 27 04:28:27 +0000 2018\", \"favorite_count\": 471674, \"hashtags\": [], \"id\": 1056039903644004352, \"id_str\": \"1056039903644004352\", \"lang\": \"en\", \"quoted_status\": {\"created_at\": \"Sat Oct 27 04:26:34 +0000 2018\", \"favorite_count\": 163954, \"hashtags\": [], \"id\": 1056039426521006080, \"id_str\": \"1056039426521006080\", \"lang\": \"und\", \"media\": [{\"display_url\": \"pic.twitter.com/o7QU30EN83\", \"expanded_url\": \"https://twitter.com/jonjarrett66/status/1056039426521006080/video/1\", \"id\": 1056039372779413504, \"media_url\": \"http://pbs.twimg.com/ext_tw_video_thumb/1056039372779413504/pu/img/VpoXwz5sW0LbkWoR.jpg\", \"media_url_https\": \"https://pbs.twimg.com/ext_tw_video_thumb/1056039372779413504/pu/img/VpoXwz5sW0LbkWoR.jpg\", \"sizes\": {\"large\": {\"h\": 1280, \"resize\": \"fit\", \"w\": 720}, \"medium\": {\"h\": 1200, \"resize\": \"fit\", \"w\": 675}, \"small\": {\"h\": 680, \"resize\": \"fit\", \"w\": 383}, \"thumb\": {\"h\": 150, \"resize\": \"crop\", \"w\": 150}}, \"type\": \"video\", \"url\": \"https://t.co/o7QU30EN83\", \"video_info\": {\"aspect_ratio\": [9, 16], \"duration_millis\": 12876, \"variants\": [{\"content_type\": \"application/x-mpegURL\", \"url\": \"https://video.twimg.com/ext_tw_video/1056039372779413504/pu/pl/6KLVQSBmn5KRtPfH.m3u8?tag=5\"}, {\"bitrate\": 832000, \"content_type\": \"video/mp4\", \"url\": \"https://video.twimg.com/ext_tw_video/1056039372779413504/pu/vid/360x640/tF7q9XxQoX_xWVLK.mp4?tag=5\"}, {\"bitrate\": 2176000, \"content_type\": \"video/mp4\", \"url\": \"https://video.twimg.com/ext_tw_video/1056039372779413504/pu/vid/720x1280/4-d2cub6wU7wCe-x.mp4?tag=5\"}, {\"bitrate\": 256000, \"content_type\": \"video/mp4\", \"url\": \"https://video.twimg.com/ext_tw_video/1056039372779413504/pu/vid/180x320/u-54QursRp00Npf5.mp4?tag=5\"}]}}], \"retweet_count\": 45357, \"source\": \"<a href=\\\"http://twitter.com/download/android\\\" rel=\\\"nofollow\\\">Twitter for Android</a>\", \"text\": \"https://t.co/o7QU30EN83\", \"urls\": [], \"user\": {\"id\": 1387987500, \"id_str\": \"1387987500\"}, \"user_mentions\": []}, \"quoted_status_id\": 1056039426521006080, \"quoted_status_id_str\": \"1056039426521006080\", \"retweet_count\": 131543, \"source\": \"<a href=\\\"http://twitter.com/download/iphone\\\" rel=\\\"nofollow\\\">Twitter for iPhone</a>\", \"text\": \"THIS MAN RIGHT HERE HAD THE AUDACITY TO ORDER A HOT DOG IN MY PRESENCE https://t.co/T0l71qS6Pp\", \"urls\": [{\"expanded_url\": \"https://twitter.com/jonjarrett66/status/1056039426521006080\", \"url\": \"https://t.co/T0l71qS6Pp\"}], \"user\": {\"id\": 854517860080783360, \"id_str\": \"854517860080783360\"}, \"user_mentions\": []}, \"source\": \"<a href=\\\"http://twitter.com/download/iphone\\\" rel=\\\"nofollow\\\">Twitter for iPhone</a>\", \"text\": \"RT @LimpyNoodles: THIS MAN RIGHT HERE HAD THE AUDACITY TO ORDER A HOT DOG IN MY PRESENCE https://t.co/T0l71qS6Pp\", \"urls\": [{\"expanded_url\": \"https://twitter.com/jonjarrett66/status/1056039426521006080\", \"url\": \"https://t.co/T0l71qS6Pp\"}], \"user\": {\"id\": 721851772071976961, \"id_str\": \"721851772071976961\"}, \"user_mentions\": [{\"id\": 854517860080783360, \"id_str\": \"854517860080783360\", \"name\": \"\\u1455\\u157c\\u00e0\\u1515\\u00e9\", \"screen_name\": \"LimpyNoodles\"}]}\n",
      "**********\n",
      "\n",
      "********** 5\n",
      "\n",
      "{\"created_at\": \"Sat Oct 27 00:56:04 +0000 2018\", \"favorite_count\": 3283, \"hashtags\": [], \"id\": 1055986452612419584, \"id_str\": \"1055986452612419584\", \"lang\": \"en\", \"retweet_count\": 1758, \"source\": \"<a href=\\\"https://www.sprinklr.com\\\" rel=\\\"nofollow\\\">Sprinklr</a>\", \"text\": \".@Meghan_Trainor! @NCTsmtown_127! @torikelly! Legends are coming together on Nov 4 to celebrate The True Original,\\u2026 https://t.co/89dFr1LjAe\", \"truncated\": true, \"urls\": [{\"expanded_url\": \"https://twitter.com/i/web/status/1055986452612419584\", \"url\": \"https://t.co/89dFr1LjAe\"}], \"user\": {\"id\": 631478663, \"id_str\": \"631478663\"}, \"user_mentions\": [{\"id\": 254830969, \"id_str\": \"254830969\", \"name\": \"Meghan Trainor\", \"screen_name\": \"Meghan_Trainor\"}, {\"id\": 869875390465982465, \"id_str\": \"869875390465982465\", \"name\": \"NCT 127\", \"screen_name\": \"NCTsmtown_127\"}, {\"id\": 19017237, \"id_str\": \"19017237\", \"name\": \"tori kelly\", \"screen_name\": \"torikelly\"}]}\n",
      "**********\n",
      "\n",
      "********** 6\n",
      "\n",
      "{\"created_at\": \"Sat Oct 27 22:54:49 +0000 2018\", \"favorite_count\": 1215, \"hashtags\": [{\"text\": \"GoDawgs\"}], \"id\": 1056318330037002240, \"id_str\": \"1056318330037002240\", \"lang\": \"en\", \"retweet_count\": 175, \"source\": \"<a href=\\\"http://twitter.com/download/iphone\\\" rel=\\\"nofollow\\\">Twitter for iPhone</a>\", \"text\": \"It just got real quiet down in Florida Gator country. I bet you could hear a mouse peeing on cotton! \\ud83d\\ude02 #GoDawgs\", \"urls\": [], \"user\": {\"id\": 63769373, \"id_str\": \"63769373\"}, \"user_mentions\": []}\n",
      "**********\n",
      "\n",
      "********** 7\n",
      "\n",
      "{\"created_at\": \"Fri Oct 26 23:00:03 +0000 2018\", \"favorite_count\": 888, \"hashtags\": [{\"text\": \"MickeyTrueOriginal\"}], \"id\": 1055957256162942977, \"id_str\": \"1055957256162942977\", \"lang\": \"en\", \"retweet_count\": 132, \"source\": \"<a href=\\\"https://www.sprinklr.com\\\" rel=\\\"nofollow\\\">Sprinklr</a>\", \"text\": \"Swell news, Mickey Mouse fans! \\ud83c\\udf89 The #MickeyTrueOriginal Exhibition is coming to New York City on November 8. Here'\\u2026 https://t.co/5pEI0DpaQJ\", \"truncated\": true, \"urls\": [{\"expanded_url\": \"https://twitter.com/i/web/status/1055957256162942977\", \"url\": \"https://t.co/5pEI0DpaQJ\"}], \"user\": {\"id\": 67418441, \"id_str\": \"67418441\"}, \"user_mentions\": []}\n",
      "**********\n",
      "\n",
      "********** 8\n",
      "\n",
      "{\"created_at\": \"Sun Oct 28 16:38:08 +0000 2018\", \"hashtags\": [], \"id\": 1056585921154420736, \"id_str\": \"1056585921154420736\", \"lang\": \"es\", \"source\": \"<a href=\\\"http://twitter.com/download/android\\\" rel=\\\"nofollow\\\">Twitter for Android</a>\", \"text\": \"Llore de felicidad de ver el video de una ni\\u00f1a abrazando a Mickey Mouse as\\u00ed de sensible ando\", \"urls\": [], \"user\": {\"id\": 33790634, \"id_str\": \"33790634\"}, \"user_mentions\": []}\n",
      "**********\n",
      "\n",
      "********** 9\n",
      "\n",
      "{\"created_at\": \"Sun Oct 28 16:38:02 +0000 2018\", \"hashtags\": [], \"id\": 1056585896898805766, \"id_str\": \"1056585896898805766\", \"lang\": \"pt\", \"media\": [{\"display_url\": \"pic.twitter.com/vO88jv0EsT\", \"expanded_url\": \"https://twitter.com/WORD_NEWSS/status/1056567144966733824/photo/1\", \"id\": 1056567136880115712, \"media_url\": \"http://pbs.twimg.com/media/DqmuNosXQAAe7QP.jpg\", \"media_url_https\": \"https://pbs.twimg.com/media/DqmuNosXQAAe7QP.jpg\", \"sizes\": {\"large\": {\"h\": 626, \"resize\": \"fit\", \"w\": 881}, \"medium\": {\"h\": 626, \"resize\": \"fit\", \"w\": 881}, \"small\": {\"h\": 483, \"resize\": \"fit\", \"w\": 680}, \"thumb\": {\"h\": 150, \"resize\": \"crop\", \"w\": 150}}, \"type\": \"photo\", \"url\": \"https://t.co/vO88jv0EsT\"}], \"retweet_count\": 2312, \"retweeted_status\": {\"created_at\": \"Sun Oct 28 15:23:32 +0000 2018\", \"favorite_count\": 8155, \"hashtags\": [], \"id\": 1056567144966733824, \"id_str\": \"1056567144966733824\", \"lang\": \"pt\", \"media\": [{\"display_url\": \"pic.twitter.com/vO88jv0EsT\", \"expanded_url\": \"https://twitter.com/WORD_NEWSS/status/1056567144966733824/photo/1\", \"id\": 1056567136880115712, \"media_url\": \"http://pbs.twimg.com/media/DqmuNosXQAAe7QP.jpg\", \"media_url_https\": \"https://pbs.twimg.com/media/DqmuNosXQAAe7QP.jpg\", \"sizes\": {\"large\": {\"h\": 626, \"resize\": \"fit\", \"w\": 881}, \"medium\": {\"h\": 626, \"resize\": \"fit\", \"w\": 881}, \"small\": {\"h\": 483, \"resize\": \"fit\", \"w\": 680}, \"thumb\": {\"h\": 150, \"resize\": \"crop\", \"w\": 150}}, \"type\": \"photo\", \"url\": \"https://t.co/vO88jv0EsT\"}], \"retweet_count\": 2312, \"source\": \"<a href=\\\"http://twitter.com/download/android\\\" rel=\\\"nofollow\\\">Twitter for Android</a>\", \"text\": \"Dilma n\\u00e3o acha mouse em sua urna e congestiona a sess\\u00e3o. https://t.co/vO88jv0EsT\", \"urls\": [], \"user\": {\"id\": 992815230504914944, \"id_str\": \"992815230504914944\"}, \"user_mentions\": []}, \"source\": \"<a href=\\\"http://twitter.com/download/android\\\" rel=\\\"nofollow\\\">Twitter for Android</a>\", \"text\": \"RT @WORD_NEWSS: Dilma n\\u00e3o acha mouse em sua urna e congestiona a sess\\u00e3o. https://t.co/vO88jv0EsT\", \"urls\": [], \"user\": {\"id\": 556451316, \"id_str\": \"556451316\"}, \"user_mentions\": [{\"id\": 992815230504914944, \"id_str\": \"992815230504914944\", \"name\": \"WORD_NEWS \\u00ae\", \"screen_name\": \"WORD_NEWSS\"}]}\n",
      "**********\n",
      "\n",
      "********** 10\n",
      "\n",
      "{\"created_at\": \"Sun Oct 28 02:10:04 +0000 2018\", \"favorite_count\": 1361, \"hashtags\": [{\"text\": \"Owloween\"}], \"id\": 1056367465477951490, \"id_str\": \"1056367465477951490\", \"lang\": \"en\", \"media\": [{\"display_url\": \"pic.twitter.com/HLYX8Q4TW8\", \"expanded_url\": \"https://twitter.com/audubonsociety/status/1056367465477951490/photo/1\", \"id\": 1056367462470615040, \"media_url\": \"http://pbs.twimg.com/media/Dqj4nDjXgAA26r7.jpg\", \"media_url_https\": \"https://pbs.twimg.com/media/Dqj4nDjXgAA26r7.jpg\", \"sizes\": {\"large\": {\"h\": 700, \"resize\": \"fit\", \"w\": 1400}, \"medium\": {\"h\": 600, \"resize\": \"fit\", \"w\": 1200}, \"small\": {\"h\": 340, \"resize\": \"fit\", \"w\": 680}, \"thumb\": {\"h\": 150, \"resize\": \"crop\", \"w\": 150}}, \"type\": \"photo\", \"url\": \"https://t.co/HLYX8Q4TW8\"}], \"retweet_count\": 378, \"source\": \"<a href=\\\"https://www.hootsuite.com\\\" rel=\\\"nofollow\\\">Hootsuite Inc.</a>\", \"text\": \"The Elf Owl is the tiniest owl in the world, measuring no bigger than a sparrow. https://t.co/l0IeZ9auU4 #Owloween https://t.co/HLYX8Q4TW8\", \"urls\": [{\"expanded_url\": \"http://ow.ly/n6Zk30mnplq\", \"url\": \"https://t.co/l0IeZ9auU4\"}], \"user\": {\"id\": 19711765, \"id_str\": \"19711765\"}, \"user_mentions\": []}\n",
      "**********\n",
      "\n"
     ]
    }
   ],
   "source": [
    "# the list of all the tweets \n",
    "\n",
    "for i in range(len(users_tweets)):\n",
    "        tweet = get_tweet_from_id(users_tweets[i])\n",
    "        print(\"********** {}\\n\".format(i))\n",
    "        print(tweet)\n",
    "        print(\"**********\\n\")\n",
    "                                  "
   ]
  },
  {
   "cell_type": "code",
   "execution_count": null,
   "metadata": {},
   "outputs": [],
   "source": []
  }
 ],
 "metadata": {
  "kernelspec": {
   "display_name": "Python 3",
   "language": "python",
   "name": "python3"
  },
  "language_info": {
   "codemirror_mode": {
    "name": "ipython",
    "version": 3
   },
   "file_extension": ".py",
   "mimetype": "text/x-python",
   "name": "python",
   "nbconvert_exporter": "python",
   "pygments_lexer": "ipython3",
   "version": "3.8.3"
  }
 },
 "nbformat": 4,
 "nbformat_minor": 4
}
