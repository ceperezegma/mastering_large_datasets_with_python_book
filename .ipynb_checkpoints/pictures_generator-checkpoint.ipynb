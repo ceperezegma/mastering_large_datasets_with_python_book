{
 "cells": [
  {
   "cell_type": "markdown",
   "metadata": {},
   "source": [
    "# generates all the possible images in black and white"
   ]
  },
  {
   "cell_type": "code",
   "execution_count": 1,
   "metadata": {},
   "outputs": [],
   "source": [
    "import itertools"
   ]
  },
  {
   "cell_type": "markdown",
   "metadata": {},
   "source": [
    "## principle: generates the images without using a lot of memory to store them"
   ]
  },
  {
   "cell_type": "code",
   "execution_count": 3,
   "metadata": {},
   "outputs": [
    {
     "name": "stdout",
     "output_type": "stream",
     "text": [
      "['0', '0', '0', '0']\n",
      "['0', '0', '0', '1']\n",
      "['0', '0', '1', '0']\n",
      "['0', '0', '1', '1']\n",
      "['0', '1', '0', '0']\n",
      "['0', '1', '0', '1']\n",
      "['0', '1', '1', '0']\n",
      "['0', '1', '1', '1']\n",
      "['1', '0', '0', '0']\n",
      "['1', '0', '0', '1']\n",
      "['1', '0', '1', '0']\n",
      "['1', '0', '1', '1']\n",
      "['1', '1', '0', '0']\n",
      "['1', '1', '0', '1']\n",
      "['1', '1', '1', '0']\n",
      "['1', '1', '1', '1']\n",
      "pictures generated: 16\n"
     ]
    }
   ],
   "source": [
    "# generates all the possible images having 2x2 pixels in size\n",
    "i = 1\n",
    "for row in itertools.product('01', repeat=4):   \n",
    "    print(list(row))\n",
    "    i += 1\n",
    "\n",
    "print(\"pictures generated: {}\".format(i-1))"
   ]
  },
  {
   "cell_type": "code",
   "execution_count": 6,
   "metadata": {},
   "outputs": [
    {
     "name": "stdout",
     "output_type": "stream",
     "text": [
      "['0', '0', '0', '0']\n",
      "['0', '0', '0', '5']\n",
      "['0', '0', '5', '0']\n",
      "['0', '0', '5', '5']\n",
      "['0', '5', '0', '0']\n",
      "['0', '5', '0', '5']\n",
      "['0', '5', '5', '0']\n",
      "['0', '5', '5', '5']\n",
      "['5', '0', '0', '0']\n",
      "['5', '0', '0', '5']\n",
      "['5', '0', '5', '0']\n",
      "['5', '0', '5', '5']\n",
      "['5', '5', '0', '0']\n",
      "['5', '5', '0', '5']\n",
      "['5', '5', '5', '0']\n",
      "['5', '5', '5', '5']\n",
      "pictures generated: 16\n"
     ]
    }
   ],
   "source": [
    "# an alternative manner to generate the combination of a predefined list of values, They can correspond to the 0 - 256 scale in grey-scale image\n",
    "i = 1\n",
    "for row in itertools.product(['0', '5'], repeat=4): # you define the list of values to use like 0 and 5 in this example\n",
    "    print(list(row))\n",
    "    i += 1\n",
    "\n",
    "print(\"pictures generated: {}\".format(i-1))"
   ]
  },
  {
   "cell_type": "markdown",
   "metadata": {},
   "source": [
    "## development logic\n",
    "1. define the size of the image by its wide in number of pixels (L). The total size or each combinatin will be L x L\n",
    "2. generate each image as a list with a length of LxL\n",
    "3. reshape the list to look like a LxL image\n",
    "4. store the reshaped list in a file .txt\n",
    "5. create an image and store it as an image file"
   ]
  },
  {
   "cell_type": "code",
   "execution_count": null,
   "metadata": {},
   "outputs": [],
   "source": []
  }
 ],
 "metadata": {
  "kernelspec": {
   "display_name": "Python 3",
   "language": "python",
   "name": "python3"
  },
  "language_info": {
   "codemirror_mode": {
    "name": "ipython",
    "version": 3
   },
   "file_extension": ".py",
   "mimetype": "text/x-python",
   "name": "python",
   "nbconvert_exporter": "python",
   "pygments_lexer": "ipython3",
   "version": "3.8.3"
  }
 },
 "nbformat": 4,
 "nbformat_minor": 4
}
