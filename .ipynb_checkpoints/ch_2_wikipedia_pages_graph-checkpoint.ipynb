{
 "cells": [
  {
   "cell_type": "markdown",
   "metadata": {},
   "source": [
    "# full project using map to extrant inbound and outbound links from wikipedia"
   ]
  },
  {
   "cell_type": "code",
   "execution_count": 26,
   "metadata": {},
   "outputs": [],
   "source": [
    "import json\n",
    "from urllib import request, parse\n",
    "import os\n",
    "from multiprocessing import Pool"
   ]
  },
  {
   "cell_type": "code",
   "execution_count": 3,
   "metadata": {},
   "outputs": [],
   "source": [
    "def link_to_title(link):\n",
    "    \"\"\"\n",
    "    Creates a helper function for getting the title from a link result\n",
    "    \"\"\"\n",
    "    \n",
    "    return link[\"title\"]"
   ]
  },
  {
   "cell_type": "code",
   "execution_count": 11,
   "metadata": {},
   "outputs": [],
   "source": [
    "def clean_if_key(page, key):\n",
    "    \"\"\"\n",
    "    Creates a helper function that gets titles for the links found, if they exist\n",
    "    \"\"\"\n",
    "    \n",
    "    if key in page.keys():\n",
    "        return map(link_to_title, page[key])\n",
    "    else: return []"
   ]
  },
  {
   "cell_type": "code",
   "execution_count": 29,
   "metadata": {},
   "outputs": [],
   "source": [
    "def get_wiki_links(pageTitle):\n",
    "    \"\"\"\n",
    "    Quotes the title to ensure it’s URL-safe\n",
    "    \"\"\"\n",
    "    \n",
    "    safe_title = parse.quote(pageTitle)\n",
    "    url = \"https://en.wikipedia.org/w/api.php?action=query&prop=links|linkshere&pllimit=5&lhlimit=5&titles={}&format=json&formatversion=2\".format(safe_title)\n",
    "    page = request.urlopen(url).read() # Sends an HTTP request to the URL and reads the response\n",
    "    j = json.loads(page) # Parses the response as JSON    \n",
    "    jpage = j[\"query\"][\"pages\"][0]\n",
    "    inbound = clean_if_key(jpage, \"links\") # Cleans the inbound and outbound links if they exist\n",
    "    outbound = clean_if_key(jpage, \"linkshere\")\n",
    "    return {\"title\": pageTitle, \n",
    "            \"in-links\": list(inbound),\n",
    "            \"out-links\": list(outbound)} # Returns the page’s title and its inbound and outbound links    "
   ]
  },
  {
   "cell_type": "code",
   "execution_count": 7,
   "metadata": {},
   "outputs": [],
   "source": [
    "def flatten_network(page):\n",
    "    return page[\"in-links\"] + page[\"out-links\"]"
   ]
  },
  {
   "cell_type": "code",
   "execution_count": 23,
   "metadata": {},
   "outputs": [],
   "source": [
    "def pages_to_edges(page):\n",
    "    \"\"\"\n",
    "    represent the graph edges as tuples between the in-links and out-links\n",
    "    \"\"\"\n",
    "    a = [(page[\"title\"], p) for p in page[\"out-links\"]]\n",
    "    b = [(p, page[\"title\"]) for p in page[\"in-links\"]]\n",
    "    return a + b"
   ]
  },
  {
   "cell_type": "code",
   "execution_count": 30,
   "metadata": {},
   "outputs": [
    {
     "name": "stdout",
     "output_type": "stream",
     "text": [
      "number of CPUs available: 2\n",
      "\n",
      "\n",
      "----- RESULT 1 ----\n",
      "[{'title': '16-bit', 'in-links': ['16-bit computing', 'Wikipedia:Protection policy', 'Wikipedia:Redirect', 'Category:Redirects from moves'], 'out-links': ['ASCII', 'Amiga', 'Apple II series', 'Atari ST', 'Advanced Micro Devices']}, {'title': '4-bit', 'in-links': ['4-bit computing', 'Wikipedia:Protection policy', 'Wikipedia:Redirect', 'Category:Redirects from moves'], 'out-links': ['Advanced Micro Devices', 'Intel', 'Intel 80286', 'Intel 8080', 'Intel 8086']}, {'title': '64-bit', 'in-links': ['64-bit computing', 'Category:Redirects from moves'], 'out-links': ['ASCII', 'Accelerated Graphics Port', 'Advanced Micro Devices', 'Athlon', 'Buffer overflow']}, {'title': '8-bit', 'in-links': ['8-bit computing', 'Wikipedia:Protection policy', 'Wikipedia:Redirect', 'Category:Redirects from moves'], 'out-links': ['ASCII', 'Amiga', 'Acorn Electron', 'Apple III', 'Atari ST']}, {'title': 'AMD', 'in-links': ['Advanced Micro Devices', 'Stock exchange', 'Stock symbol', 'Wikipedia:Protection policy', 'Wikipedia:Redirect'], 'out-links': ['Advanced Micro Devices', 'Automated theorem proving', 'BIOS', 'Cyrix 6x86', 'Complex instruction set computer']}, {'title': 'Artificial intelligence', 'in-links': ['2001: A Space Odyssey', '2001: A Space Odyssey (film)', '2001: A Space Odyssey (novel)', '3D optical data storage', 'A* search algorithm'], 'out-links': ['Android (robot)', 'Algorithm', 'Apple Inc.', 'Ada Lovelace', 'Artificial intelligence']}, {'title': 'Ada (programming language)', 'in-links': ['ACM Queue', 'ALGOL', 'ALGOL 60', 'ALGOL 68', 'APL (programming language)'], 'out-links': ['Ada', 'Ada Lovelace', 'Talk:Ada (programming language)', 'Assembly language', 'ALGOL']}, {'title': 'Atanasoff–Berry computer', 'in-links': ['1-bit computing', '12-bit computing', '128-bit computing', '16-bit computing', '24-bit computing'], 'out-links': ['ABC', 'Computer science', 'George Washington Carver', 'Talk:History of computing hardware', 'Iowa State University']}, {'title': 'APL (programming language)', 'in-links': ['.NET Framework', '110 film', '126 film', '135 film', '19-inch rack'], 'out-links': ['Alpha', 'APL', 'Ada (programming language)', 'ALGOL', 'BASIC']}, {'title': 'Array data structure', 'in-links': ['32-bit', 'AA tree', 'ALGOL', 'AVL tree', 'Abstract data type'], 'out-links': ['Algorithm', 'APL (programming language)', 'AVL tree', \"Amdahl's law\", 'Abstract data type']}]\n",
      "\n",
      "----- RESULT 2 ----\n",
      "[[('16-bit', 'ASCII'), ('16-bit', 'Amiga'), ('16-bit', 'Apple II series'), ('16-bit', 'Atari ST'), ('16-bit', 'Advanced Micro Devices'), ('16-bit computing', '16-bit'), ('Wikipedia:Protection policy', '16-bit'), ('Wikipedia:Redirect', '16-bit'), ('Category:Redirects from moves', '16-bit')], [('4-bit', 'Advanced Micro Devices'), ('4-bit', 'Intel'), ('4-bit', 'Intel 80286'), ('4-bit', 'Intel 8080'), ('4-bit', 'Intel 8086'), ('4-bit computing', '4-bit'), ('Wikipedia:Protection policy', '4-bit'), ('Wikipedia:Redirect', '4-bit'), ('Category:Redirects from moves', '4-bit')], [('64-bit', 'ASCII'), ('64-bit', 'Accelerated Graphics Port'), ('64-bit', 'Advanced Micro Devices'), ('64-bit', 'Athlon'), ('64-bit', 'Buffer overflow'), ('64-bit computing', '64-bit'), ('Category:Redirects from moves', '64-bit')], [('8-bit', 'ASCII'), ('8-bit', 'Amiga'), ('8-bit', 'Acorn Electron'), ('8-bit', 'Apple III'), ('8-bit', 'Atari ST'), ('8-bit computing', '8-bit'), ('Wikipedia:Protection policy', '8-bit'), ('Wikipedia:Redirect', '8-bit'), ('Category:Redirects from moves', '8-bit')], [('AMD', 'Advanced Micro Devices'), ('AMD', 'Automated theorem proving'), ('AMD', 'BIOS'), ('AMD', 'Cyrix 6x86'), ('AMD', 'Complex instruction set computer'), ('Advanced Micro Devices', 'AMD'), ('Stock exchange', 'AMD'), ('Stock symbol', 'AMD'), ('Wikipedia:Protection policy', 'AMD'), ('Wikipedia:Redirect', 'AMD')], [('Artificial intelligence', 'Android (robot)'), ('Artificial intelligence', 'Algorithm'), ('Artificial intelligence', 'Apple Inc.'), ('Artificial intelligence', 'Ada Lovelace'), ('Artificial intelligence', 'Artificial intelligence'), ('2001: A Space Odyssey', 'Artificial intelligence'), ('2001: A Space Odyssey (film)', 'Artificial intelligence'), ('2001: A Space Odyssey (novel)', 'Artificial intelligence'), ('3D optical data storage', 'Artificial intelligence'), ('A* search algorithm', 'Artificial intelligence')], [('Ada (programming language)', 'Ada'), ('Ada (programming language)', 'Ada Lovelace'), ('Ada (programming language)', 'Talk:Ada (programming language)'), ('Ada (programming language)', 'Assembly language'), ('Ada (programming language)', 'ALGOL'), ('ACM Queue', 'Ada (programming language)'), ('ALGOL', 'Ada (programming language)'), ('ALGOL 60', 'Ada (programming language)'), ('ALGOL 68', 'Ada (programming language)'), ('APL (programming language)', 'Ada (programming language)')], [('Atanasoff–Berry computer', 'ABC'), ('Atanasoff–Berry computer', 'Computer science'), ('Atanasoff–Berry computer', 'George Washington Carver'), ('Atanasoff–Berry computer', 'Talk:History of computing hardware'), ('Atanasoff–Berry computer', 'Iowa State University'), ('1-bit computing', 'Atanasoff–Berry computer'), ('12-bit computing', 'Atanasoff–Berry computer'), ('128-bit computing', 'Atanasoff–Berry computer'), ('16-bit computing', 'Atanasoff–Berry computer'), ('24-bit computing', 'Atanasoff–Berry computer')], [('APL (programming language)', 'Alpha'), ('APL (programming language)', 'APL'), ('APL (programming language)', 'Ada (programming language)'), ('APL (programming language)', 'ALGOL'), ('APL (programming language)', 'BASIC'), ('.NET Framework', 'APL (programming language)'), ('110 film', 'APL (programming language)'), ('126 film', 'APL (programming language)'), ('135 film', 'APL (programming language)'), ('19-inch rack', 'APL (programming language)')], [('Array data structure', 'Algorithm'), ('Array data structure', 'APL (programming language)'), ('Array data structure', 'AVL tree'), ('Array data structure', \"Amdahl's law\"), ('Array data structure', 'Abstract data type'), ('32-bit', 'Array data structure'), ('AA tree', 'Array data structure'), ('ALGOL', 'Array data structure'), ('AVL tree', 'Array data structure'), ('Abstract data type', 'Array data structure')]]\n"
     ]
    }
   ],
   "source": [
    "# main function\n",
    "if __name__ == \"__main__\":\n",
    "    print(\"number of CPUs available: {}\\n\".format(os.cpu_count()))\n",
    "    \n",
    "    root = get_wiki_links(\"Parallel_computing\")\n",
    "    initial_network = flatten_network(root)\n",
    "    \n",
    "    with Pool() as P:\n",
    "        all_pages = P.map(get_wiki_links, initial_network)\n",
    "        edges = P.map(pages_to_edges, all_pages)\n",
    "    \n",
    "    print(\"\\n----- RESULT 1 ----\")\n",
    "    print(all_pages)\n",
    "    print(\"\\n----- RESULT 2 ----\")\n",
    "    print(edges)\n",
    "    "
   ]
  },
  {
   "cell_type": "code",
   "execution_count": 32,
   "metadata": {},
   "outputs": [
    {
     "data": {
      "text/plain": [
       "10"
      ]
     },
     "execution_count": 32,
     "metadata": {},
     "output_type": "execute_result"
    }
   ],
   "source": [
    "len(edges)"
   ]
  },
  {
   "cell_type": "code",
   "execution_count": 33,
   "metadata": {},
   "outputs": [
    {
     "data": {
      "text/plain": [
       "[('16-bit', 'ASCII'),\n",
       " ('16-bit', 'Amiga'),\n",
       " ('16-bit', 'Apple II series'),\n",
       " ('16-bit', 'Atari ST'),\n",
       " ('16-bit', 'Advanced Micro Devices'),\n",
       " ('16-bit computing', '16-bit'),\n",
       " ('Wikipedia:Protection policy', '16-bit'),\n",
       " ('Wikipedia:Redirect', '16-bit'),\n",
       " ('Category:Redirects from moves', '16-bit')]"
      ]
     },
     "execution_count": 33,
     "metadata": {},
     "output_type": "execute_result"
    }
   ],
   "source": [
    "edges[0]"
   ]
  },
  {
   "cell_type": "code",
   "execution_count": 41,
   "metadata": {},
   "outputs": [
    {
     "name": "stdout",
     "output_type": "stream",
     "text": [
      "edge 0:\n",
      " [('16-bit', 'ASCII'), ('16-bit', 'Amiga'), ('16-bit', 'Apple II series'), ('16-bit', 'Atari ST'), ('16-bit', 'Advanced Micro Devices'), ('16-bit computing', '16-bit'), ('Wikipedia:Protection policy', '16-bit'), ('Wikipedia:Redirect', '16-bit'), ('Category:Redirects from moves', '16-bit')]\n",
      "\n",
      "edge 1:\n",
      " [('4-bit', 'Advanced Micro Devices'), ('4-bit', 'Intel'), ('4-bit', 'Intel 80286'), ('4-bit', 'Intel 8080'), ('4-bit', 'Intel 8086'), ('4-bit computing', '4-bit'), ('Wikipedia:Protection policy', '4-bit'), ('Wikipedia:Redirect', '4-bit'), ('Category:Redirects from moves', '4-bit')]\n",
      "\n",
      "edge 2:\n",
      " [('64-bit', 'ASCII'), ('64-bit', 'Accelerated Graphics Port'), ('64-bit', 'Advanced Micro Devices'), ('64-bit', 'Athlon'), ('64-bit', 'Buffer overflow'), ('64-bit computing', '64-bit'), ('Category:Redirects from moves', '64-bit')]\n",
      "\n",
      "edge 3:\n",
      " [('8-bit', 'ASCII'), ('8-bit', 'Amiga'), ('8-bit', 'Acorn Electron'), ('8-bit', 'Apple III'), ('8-bit', 'Atari ST'), ('8-bit computing', '8-bit'), ('Wikipedia:Protection policy', '8-bit'), ('Wikipedia:Redirect', '8-bit'), ('Category:Redirects from moves', '8-bit')]\n",
      "\n",
      "edge 4:\n",
      " [('AMD', 'Advanced Micro Devices'), ('AMD', 'Automated theorem proving'), ('AMD', 'BIOS'), ('AMD', 'Cyrix 6x86'), ('AMD', 'Complex instruction set computer'), ('Advanced Micro Devices', 'AMD'), ('Stock exchange', 'AMD'), ('Stock symbol', 'AMD'), ('Wikipedia:Protection policy', 'AMD'), ('Wikipedia:Redirect', 'AMD')]\n",
      "\n",
      "edge 5:\n",
      " [('Artificial intelligence', 'Android (robot)'), ('Artificial intelligence', 'Algorithm'), ('Artificial intelligence', 'Apple Inc.'), ('Artificial intelligence', 'Ada Lovelace'), ('Artificial intelligence', 'Artificial intelligence'), ('2001: A Space Odyssey', 'Artificial intelligence'), ('2001: A Space Odyssey (film)', 'Artificial intelligence'), ('2001: A Space Odyssey (novel)', 'Artificial intelligence'), ('3D optical data storage', 'Artificial intelligence'), ('A* search algorithm', 'Artificial intelligence')]\n",
      "\n",
      "edge 6:\n",
      " [('Ada (programming language)', 'Ada'), ('Ada (programming language)', 'Ada Lovelace'), ('Ada (programming language)', 'Talk:Ada (programming language)'), ('Ada (programming language)', 'Assembly language'), ('Ada (programming language)', 'ALGOL'), ('ACM Queue', 'Ada (programming language)'), ('ALGOL', 'Ada (programming language)'), ('ALGOL 60', 'Ada (programming language)'), ('ALGOL 68', 'Ada (programming language)'), ('APL (programming language)', 'Ada (programming language)')]\n",
      "\n",
      "edge 7:\n",
      " [('Atanasoff–Berry computer', 'ABC'), ('Atanasoff–Berry computer', 'Computer science'), ('Atanasoff–Berry computer', 'George Washington Carver'), ('Atanasoff–Berry computer', 'Talk:History of computing hardware'), ('Atanasoff–Berry computer', 'Iowa State University'), ('1-bit computing', 'Atanasoff–Berry computer'), ('12-bit computing', 'Atanasoff–Berry computer'), ('128-bit computing', 'Atanasoff–Berry computer'), ('16-bit computing', 'Atanasoff–Berry computer'), ('24-bit computing', 'Atanasoff–Berry computer')]\n",
      "\n",
      "edge 8:\n",
      " [('APL (programming language)', 'Alpha'), ('APL (programming language)', 'APL'), ('APL (programming language)', 'Ada (programming language)'), ('APL (programming language)', 'ALGOL'), ('APL (programming language)', 'BASIC'), ('.NET Framework', 'APL (programming language)'), ('110 film', 'APL (programming language)'), ('126 film', 'APL (programming language)'), ('135 film', 'APL (programming language)'), ('19-inch rack', 'APL (programming language)')]\n",
      "\n",
      "edge 9:\n",
      " [('Array data structure', 'Algorithm'), ('Array data structure', 'APL (programming language)'), ('Array data structure', 'AVL tree'), ('Array data structure', \"Amdahl's law\"), ('Array data structure', 'Abstract data type'), ('32-bit', 'Array data structure'), ('AA tree', 'Array data structure'), ('ALGOL', 'Array data structure'), ('AVL tree', 'Array data structure'), ('Abstract data type', 'Array data structure')]\n",
      "\n"
     ]
    },
    {
     "data": {
      "text/plain": [
       "[None, None, None, None, None, None, None, None, None, None]"
      ]
     },
     "execution_count": 41,
     "metadata": {},
     "output_type": "execute_result"
    }
   ],
   "source": [
    "[print(\"edge {}:\\n {}\\n\".format(i, edges[i])) for  i in range(len(edges))]"
   ]
  },
  {
   "cell_type": "code",
   "execution_count": null,
   "metadata": {},
   "outputs": [],
   "source": []
  }
 ],
 "metadata": {
  "kernelspec": {
   "display_name": "Python 3",
   "language": "python",
   "name": "python3"
  },
  "language_info": {
   "codemirror_mode": {
    "name": "ipython",
    "version": 3
   },
   "file_extension": ".py",
   "mimetype": "text/x-python",
   "name": "python",
   "nbconvert_exporter": "python",
   "pygments_lexer": "ipython3",
   "version": "3.8.3"
  }
 },
 "nbformat": 4,
 "nbformat_minor": 4
}
